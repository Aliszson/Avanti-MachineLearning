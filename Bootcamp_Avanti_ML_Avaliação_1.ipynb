{
  "nbformat": 4,
  "nbformat_minor": 0,
  "metadata": {
    "colab": {
      "provenance": []
    },
    "kernelspec": {
      "name": "python3",
      "display_name": "Python 3"
    },
    "language_info": {
      "name": "python"
    }
  },
  "cells": [
    {
      "cell_type": "markdown",
      "source": [
        "\n",
        "**1. Escreva uma função que receba uma lista de números e retorne outra lista com os números primos presentes.**"
      ],
      "metadata": {
        "id": "gU7Q5P_74aby"
      }
    },
    {
      "cell_type": "code",
      "source": [
        "from random import randint\n",
        "\n",
        "def busca_primos(lista):\n",
        "  lista_primos = []\n",
        "  for num in lista:\n",
        "    is_primo = True\n",
        "    for i in range(2, num):\n",
        "        if num % i == 0:\n",
        "          is_primo = False\n",
        "          break\n",
        "    if is_primo and num > 1:\n",
        "        lista_primos.append(num)\n",
        "  return lista_primos\n",
        "\n",
        "lista_numeros = [randint(1, 100) for numero in range (20)]\n",
        "print(lista_numeros)"
      ],
      "metadata": {
        "colab": {
          "base_uri": "https://localhost:8080/"
        },
        "id": "yVr9mdv25vNq",
        "outputId": "a7066494-83c9-4e05-b220-99e21d130e3c"
      },
      "execution_count": 2,
      "outputs": [
        {
          "output_type": "stream",
          "name": "stdout",
          "text": [
            "[60, 9, 81, 59, 58, 1, 8, 26, 84, 61, 64, 64, 5, 34, 7, 98, 62, 89, 20, 14]\n"
          ]
        }
      ]
    },
    {
      "cell_type": "code",
      "source": [
        "busca_primos(lista_numeros)"
      ],
      "metadata": {
        "colab": {
          "base_uri": "https://localhost:8080/"
        },
        "id": "mA6PkaDQDrdj",
        "outputId": "26d949e5-394b-4e3b-edb4-55192321cbf0"
      },
      "execution_count": 3,
      "outputs": [
        {
          "output_type": "execute_result",
          "data": {
            "text/plain": [
              "[59, 61, 5, 7, 89]"
            ]
          },
          "metadata": {},
          "execution_count": 3
        }
      ]
    },
    {
      "cell_type": "markdown",
      "source": [
        "**2. Escreva uma função que receba duas listas e retorne outra lista com os elementos que estão presentes em apenas uma das listas.**"
      ],
      "metadata": {
        "id": "eEkU6dn94a8h"
      }
    },
    {
      "cell_type": "code",
      "source": [
        "def elementos_unicos(lista1, lista2):\n",
        "    return list(set(lista1) ^ set(lista2))\n",
        "\n",
        "lista1 = [1, 2, 3, 4, 5]\n",
        "lista2 = [3, 4, 5, 6, 7]\n",
        "\n",
        "elementos_unicos_lista = elementos_unicos(lista1, lista2)\n",
        "print('Elementos presentes em apenas uma das listas:', elementos_unicos_lista)\n"
      ],
      "metadata": {
        "colab": {
          "base_uri": "https://localhost:8080/"
        },
        "id": "qDYK6WoZFewG",
        "outputId": "5ce2bc1f-1642-4013-d644-d0e124c8de87"
      },
      "execution_count": 4,
      "outputs": [
        {
          "output_type": "stream",
          "name": "stdout",
          "text": [
            "Elementos presentes em apenas uma das listas: [1, 2, 6, 7]\n"
          ]
        }
      ]
    },
    {
      "cell_type": "markdown",
      "source": [
        "**3. Dada uma lista de números inteiros, escreva uma função para encontrar o segundo maior valor na lista.**"
      ],
      "metadata": {
        "id": "V1vMsg7z4dCp"
      }
    },
    {
      "cell_type": "code",
      "source": [
        "def segundo_maior_valor(lista):\n",
        "  lista_ordenada = sorted(lista)\n",
        "  return lista_ordenada[-2]\n",
        "\n",
        "lista_inteiros = [randint(1, 100) for numero in range (20)]\n",
        "print(lista_inteiros)\n",
        "print(sorted(lista_inteiros))"
      ],
      "metadata": {
        "colab": {
          "base_uri": "https://localhost:8080/"
        },
        "id": "nl2GjFD7GWU9",
        "outputId": "521fcc60-3138-4bf9-f7b7-208c7a87195e"
      },
      "execution_count": 5,
      "outputs": [
        {
          "output_type": "stream",
          "name": "stdout",
          "text": [
            "[88, 82, 37, 51, 89, 79, 46, 11, 5, 15, 13, 24, 1, 97, 82, 49, 18, 51, 28, 71]\n",
            "[1, 5, 11, 13, 15, 18, 24, 28, 37, 46, 49, 51, 51, 71, 79, 82, 82, 88, 89, 97]\n"
          ]
        }
      ]
    },
    {
      "cell_type": "code",
      "source": [
        "segundo_maior_valor(lista_inteiros)"
      ],
      "metadata": {
        "colab": {
          "base_uri": "https://localhost:8080/"
        },
        "id": "CnZas3ooGqrr",
        "outputId": "f1957a36-b599-4a0f-98bb-5ac74665d4fe"
      },
      "execution_count": 6,
      "outputs": [
        {
          "output_type": "execute_result",
          "data": {
            "text/plain": [
              "89"
            ]
          },
          "metadata": {},
          "execution_count": 6
        }
      ]
    },
    {
      "cell_type": "markdown",
      "source": [
        "**4. Crie uma função que receba uma lista de tuplas, cada uma contendo o nome e a idade de uma pessoa, e retorne a lista ordenada pelo nome das pessoas em ordem alfabética.**"
      ],
      "metadata": {
        "id": "dLcFGGtH4ht6"
      }
    },
    {
      "cell_type": "code",
      "source": [
        "def ordenar_por_nome(lista_de_pessoas):\n",
        "    return sorted(lista_de_pessoas, key=lambda pessoa: pessoa[0])\n",
        "\n",
        "lista_de_pessoas = [(\"Alisson\", 30), (\"Mario\", 25), (\"Eva\", 35), (\"Daniel\", 28)]\n",
        "lista_ordenada = ordenar_por_nome(lista_de_pessoas)\n",
        "print(\"Lista ordenada pelo nome das pessoas:\", lista_ordenada)"
      ],
      "metadata": {
        "colab": {
          "base_uri": "https://localhost:8080/"
        },
        "id": "LJp-qoVvIqtc",
        "outputId": "41a20662-801c-4e29-96f9-ac91bab9fa7b"
      },
      "execution_count": 7,
      "outputs": [
        {
          "output_type": "stream",
          "name": "stdout",
          "text": [
            "Lista ordenada pelo nome das pessoas: [('Alisson', 30), ('Daniel', 28), ('Eva', 35), ('Mario', 25)]\n"
          ]
        }
      ]
    },
    {
      "cell_type": "markdown",
      "source": [
        "**5. Dada uma lista contendo números inteiros, como você encontraria o maior número e o menor número dessa lista em uma única passagem?**"
      ],
      "metadata": {
        "id": "Q9XnHFDh4jdJ"
      }
    },
    {
      "cell_type": "code",
      "source": [
        "lista_inteiros2 = [randint(1, 100) for numero in range (20)]\n",
        "print(lista_inteiros2)\n",
        "print(max(lista_inteiros2)) # determinando maior número\n",
        "print(min(lista_inteiros2)) # determinando menor número"
      ],
      "metadata": {
        "colab": {
          "base_uri": "https://localhost:8080/"
        },
        "id": "gIYa4QQAJZt2",
        "outputId": "82bab1ea-df32-4cbd-ca92-f794bdc574af"
      },
      "execution_count": 8,
      "outputs": [
        {
          "output_type": "stream",
          "name": "stdout",
          "text": [
            "[12, 14, 94, 91, 21, 54, 61, 91, 43, 49, 98, 27, 55, 7, 44, 64, 63, 56, 92, 53]\n",
            "98\n",
            "7\n"
          ]
        }
      ]
    },
    {
      "cell_type": "markdown",
      "source": [
        "**6. Utilizando pandas, como realizar a leitura de um arquivo CSV em um DataFrame e exibir as primeiras linhas?**"
      ],
      "metadata": {
        "id": "67852F-S4lVy"
      }
    },
    {
      "cell_type": "code",
      "source": [
        "import pandas as pd\n",
        "\n",
        "df = pd.DataFrame(\n",
        "    {\n",
        "      'Nome':[\n",
        "      'Joana lima',\n",
        "      'Mario Oliveira',\n",
        "      'Mauro César',\n",
        "      'Carlos Lima'\n",
        "      ],\n",
        "      'Idade':[29, 70, 50, 18],\n",
        "      'Sexo':['Feminino', 'Masculino', 'Masculino', 'Masculino'],\n",
        "    }\n",
        ")\n",
        "# transformando esse código em csv posso usar o método 'pd.read_csv(arquivo_csv)\n",
        "df.head()"
      ],
      "metadata": {
        "colab": {
          "base_uri": "https://localhost:8080/",
          "height": 175
        },
        "id": "AfcsH--bKYGs",
        "outputId": "aeb931db-8746-44af-ebbd-93be132f2a94"
      },
      "execution_count": 9,
      "outputs": [
        {
          "output_type": "execute_result",
          "data": {
            "text/plain": [
              "             Nome  Idade       Sexo\n",
              "0      Joana lima     29   Feminino\n",
              "1  Mario Oliveira     70  Masculino\n",
              "2     Mauro César     50  Masculino\n",
              "3     Carlos Lima     18  Masculino"
            ],
            "text/html": [
              "\n",
              "  <div id=\"df-f10bb001-ddf2-425a-a0c5-6ef908fd4fe9\" class=\"colab-df-container\">\n",
              "    <div>\n",
              "<style scoped>\n",
              "    .dataframe tbody tr th:only-of-type {\n",
              "        vertical-align: middle;\n",
              "    }\n",
              "\n",
              "    .dataframe tbody tr th {\n",
              "        vertical-align: top;\n",
              "    }\n",
              "\n",
              "    .dataframe thead th {\n",
              "        text-align: right;\n",
              "    }\n",
              "</style>\n",
              "<table border=\"1\" class=\"dataframe\">\n",
              "  <thead>\n",
              "    <tr style=\"text-align: right;\">\n",
              "      <th></th>\n",
              "      <th>Nome</th>\n",
              "      <th>Idade</th>\n",
              "      <th>Sexo</th>\n",
              "    </tr>\n",
              "  </thead>\n",
              "  <tbody>\n",
              "    <tr>\n",
              "      <th>0</th>\n",
              "      <td>Joana lima</td>\n",
              "      <td>29</td>\n",
              "      <td>Feminino</td>\n",
              "    </tr>\n",
              "    <tr>\n",
              "      <th>1</th>\n",
              "      <td>Mario Oliveira</td>\n",
              "      <td>70</td>\n",
              "      <td>Masculino</td>\n",
              "    </tr>\n",
              "    <tr>\n",
              "      <th>2</th>\n",
              "      <td>Mauro César</td>\n",
              "      <td>50</td>\n",
              "      <td>Masculino</td>\n",
              "    </tr>\n",
              "    <tr>\n",
              "      <th>3</th>\n",
              "      <td>Carlos Lima</td>\n",
              "      <td>18</td>\n",
              "      <td>Masculino</td>\n",
              "    </tr>\n",
              "  </tbody>\n",
              "</table>\n",
              "</div>\n",
              "    <div class=\"colab-df-buttons\">\n",
              "\n",
              "  <div class=\"colab-df-container\">\n",
              "    <button class=\"colab-df-convert\" onclick=\"convertToInteractive('df-f10bb001-ddf2-425a-a0c5-6ef908fd4fe9')\"\n",
              "            title=\"Convert this dataframe to an interactive table.\"\n",
              "            style=\"display:none;\">\n",
              "\n",
              "  <svg xmlns=\"http://www.w3.org/2000/svg\" height=\"24px\" viewBox=\"0 -960 960 960\">\n",
              "    <path d=\"M120-120v-720h720v720H120Zm60-500h600v-160H180v160Zm220 220h160v-160H400v160Zm0 220h160v-160H400v160ZM180-400h160v-160H180v160Zm440 0h160v-160H620v160ZM180-180h160v-160H180v160Zm440 0h160v-160H620v160Z\"/>\n",
              "  </svg>\n",
              "    </button>\n",
              "\n",
              "  <style>\n",
              "    .colab-df-container {\n",
              "      display:flex;\n",
              "      gap: 12px;\n",
              "    }\n",
              "\n",
              "    .colab-df-convert {\n",
              "      background-color: #E8F0FE;\n",
              "      border: none;\n",
              "      border-radius: 50%;\n",
              "      cursor: pointer;\n",
              "      display: none;\n",
              "      fill: #1967D2;\n",
              "      height: 32px;\n",
              "      padding: 0 0 0 0;\n",
              "      width: 32px;\n",
              "    }\n",
              "\n",
              "    .colab-df-convert:hover {\n",
              "      background-color: #E2EBFA;\n",
              "      box-shadow: 0px 1px 2px rgba(60, 64, 67, 0.3), 0px 1px 3px 1px rgba(60, 64, 67, 0.15);\n",
              "      fill: #174EA6;\n",
              "    }\n",
              "\n",
              "    .colab-df-buttons div {\n",
              "      margin-bottom: 4px;\n",
              "    }\n",
              "\n",
              "    [theme=dark] .colab-df-convert {\n",
              "      background-color: #3B4455;\n",
              "      fill: #D2E3FC;\n",
              "    }\n",
              "\n",
              "    [theme=dark] .colab-df-convert:hover {\n",
              "      background-color: #434B5C;\n",
              "      box-shadow: 0px 1px 3px 1px rgba(0, 0, 0, 0.15);\n",
              "      filter: drop-shadow(0px 1px 2px rgba(0, 0, 0, 0.3));\n",
              "      fill: #FFFFFF;\n",
              "    }\n",
              "  </style>\n",
              "\n",
              "    <script>\n",
              "      const buttonEl =\n",
              "        document.querySelector('#df-f10bb001-ddf2-425a-a0c5-6ef908fd4fe9 button.colab-df-convert');\n",
              "      buttonEl.style.display =\n",
              "        google.colab.kernel.accessAllowed ? 'block' : 'none';\n",
              "\n",
              "      async function convertToInteractive(key) {\n",
              "        const element = document.querySelector('#df-f10bb001-ddf2-425a-a0c5-6ef908fd4fe9');\n",
              "        const dataTable =\n",
              "          await google.colab.kernel.invokeFunction('convertToInteractive',\n",
              "                                                    [key], {});\n",
              "        if (!dataTable) return;\n",
              "\n",
              "        const docLinkHtml = 'Like what you see? Visit the ' +\n",
              "          '<a target=\"_blank\" href=https://colab.research.google.com/notebooks/data_table.ipynb>data table notebook</a>'\n",
              "          + ' to learn more about interactive tables.';\n",
              "        element.innerHTML = '';\n",
              "        dataTable['output_type'] = 'display_data';\n",
              "        await google.colab.output.renderOutput(dataTable, element);\n",
              "        const docLink = document.createElement('div');\n",
              "        docLink.innerHTML = docLinkHtml;\n",
              "        element.appendChild(docLink);\n",
              "      }\n",
              "    </script>\n",
              "  </div>\n",
              "\n",
              "\n",
              "<div id=\"df-d1e0db5d-d7e6-421b-a862-a4c4ac7ab0cc\">\n",
              "  <button class=\"colab-df-quickchart\" onclick=\"quickchart('df-d1e0db5d-d7e6-421b-a862-a4c4ac7ab0cc')\"\n",
              "            title=\"Suggest charts.\"\n",
              "            style=\"display:none;\">\n",
              "\n",
              "<svg xmlns=\"http://www.w3.org/2000/svg\" height=\"24px\"viewBox=\"0 0 24 24\"\n",
              "     width=\"24px\">\n",
              "    <g>\n",
              "        <path d=\"M19 3H5c-1.1 0-2 .9-2 2v14c0 1.1.9 2 2 2h14c1.1 0 2-.9 2-2V5c0-1.1-.9-2-2-2zM9 17H7v-7h2v7zm4 0h-2V7h2v10zm4 0h-2v-4h2v4z\"/>\n",
              "    </g>\n",
              "</svg>\n",
              "  </button>\n",
              "\n",
              "<style>\n",
              "  .colab-df-quickchart {\n",
              "      --bg-color: #E8F0FE;\n",
              "      --fill-color: #1967D2;\n",
              "      --hover-bg-color: #E2EBFA;\n",
              "      --hover-fill-color: #174EA6;\n",
              "      --disabled-fill-color: #AAA;\n",
              "      --disabled-bg-color: #DDD;\n",
              "  }\n",
              "\n",
              "  [theme=dark] .colab-df-quickchart {\n",
              "      --bg-color: #3B4455;\n",
              "      --fill-color: #D2E3FC;\n",
              "      --hover-bg-color: #434B5C;\n",
              "      --hover-fill-color: #FFFFFF;\n",
              "      --disabled-bg-color: #3B4455;\n",
              "      --disabled-fill-color: #666;\n",
              "  }\n",
              "\n",
              "  .colab-df-quickchart {\n",
              "    background-color: var(--bg-color);\n",
              "    border: none;\n",
              "    border-radius: 50%;\n",
              "    cursor: pointer;\n",
              "    display: none;\n",
              "    fill: var(--fill-color);\n",
              "    height: 32px;\n",
              "    padding: 0;\n",
              "    width: 32px;\n",
              "  }\n",
              "\n",
              "  .colab-df-quickchart:hover {\n",
              "    background-color: var(--hover-bg-color);\n",
              "    box-shadow: 0 1px 2px rgba(60, 64, 67, 0.3), 0 1px 3px 1px rgba(60, 64, 67, 0.15);\n",
              "    fill: var(--button-hover-fill-color);\n",
              "  }\n",
              "\n",
              "  .colab-df-quickchart-complete:disabled,\n",
              "  .colab-df-quickchart-complete:disabled:hover {\n",
              "    background-color: var(--disabled-bg-color);\n",
              "    fill: var(--disabled-fill-color);\n",
              "    box-shadow: none;\n",
              "  }\n",
              "\n",
              "  .colab-df-spinner {\n",
              "    border: 2px solid var(--fill-color);\n",
              "    border-color: transparent;\n",
              "    border-bottom-color: var(--fill-color);\n",
              "    animation:\n",
              "      spin 1s steps(1) infinite;\n",
              "  }\n",
              "\n",
              "  @keyframes spin {\n",
              "    0% {\n",
              "      border-color: transparent;\n",
              "      border-bottom-color: var(--fill-color);\n",
              "      border-left-color: var(--fill-color);\n",
              "    }\n",
              "    20% {\n",
              "      border-color: transparent;\n",
              "      border-left-color: var(--fill-color);\n",
              "      border-top-color: var(--fill-color);\n",
              "    }\n",
              "    30% {\n",
              "      border-color: transparent;\n",
              "      border-left-color: var(--fill-color);\n",
              "      border-top-color: var(--fill-color);\n",
              "      border-right-color: var(--fill-color);\n",
              "    }\n",
              "    40% {\n",
              "      border-color: transparent;\n",
              "      border-right-color: var(--fill-color);\n",
              "      border-top-color: var(--fill-color);\n",
              "    }\n",
              "    60% {\n",
              "      border-color: transparent;\n",
              "      border-right-color: var(--fill-color);\n",
              "    }\n",
              "    80% {\n",
              "      border-color: transparent;\n",
              "      border-right-color: var(--fill-color);\n",
              "      border-bottom-color: var(--fill-color);\n",
              "    }\n",
              "    90% {\n",
              "      border-color: transparent;\n",
              "      border-bottom-color: var(--fill-color);\n",
              "    }\n",
              "  }\n",
              "</style>\n",
              "\n",
              "  <script>\n",
              "    async function quickchart(key) {\n",
              "      const quickchartButtonEl =\n",
              "        document.querySelector('#' + key + ' button');\n",
              "      quickchartButtonEl.disabled = true;  // To prevent multiple clicks.\n",
              "      quickchartButtonEl.classList.add('colab-df-spinner');\n",
              "      try {\n",
              "        const charts = await google.colab.kernel.invokeFunction(\n",
              "            'suggestCharts', [key], {});\n",
              "      } catch (error) {\n",
              "        console.error('Error during call to suggestCharts:', error);\n",
              "      }\n",
              "      quickchartButtonEl.classList.remove('colab-df-spinner');\n",
              "      quickchartButtonEl.classList.add('colab-df-quickchart-complete');\n",
              "    }\n",
              "    (() => {\n",
              "      let quickchartButtonEl =\n",
              "        document.querySelector('#df-d1e0db5d-d7e6-421b-a862-a4c4ac7ab0cc button');\n",
              "      quickchartButtonEl.style.display =\n",
              "        google.colab.kernel.accessAllowed ? 'block' : 'none';\n",
              "    })();\n",
              "  </script>\n",
              "</div>\n",
              "    </div>\n",
              "  </div>\n"
            ]
          },
          "metadata": {},
          "execution_count": 9
        }
      ]
    },
    {
      "cell_type": "markdown",
      "source": [
        "**7. Utilizando pandas, como selecionar uma coluna específica e filtrar linhas em um “DataFrame” com base em uma condição?**"
      ],
      "metadata": {
        "id": "nbYzQKJa4nuK"
      }
    },
    {
      "cell_type": "code",
      "source": [
        "df = pd.DataFrame(\n",
        "    {\n",
        "      'Nome':[\n",
        "      'Joana lima',\n",
        "      'Mario Oliveira',\n",
        "      'Mauro César',\n",
        "      'Carlos Lima'\n",
        "      ],\n",
        "      'Idade':[29, 70, 50, 18],\n",
        "      'Sexo':['Feminino', 'Masculino', 'Masculino', 'Masculino'],\n",
        "    }\n",
        ")\n",
        "\n",
        "# Seleciono a coluna específica 'Idade'\n",
        "df['Idade']\n",
        "\n",
        "# Filtro linhas com base em uma condição (por exemplo, idade maior que 25)\n",
        "df[df['Idade'] > 25]"
      ],
      "metadata": {
        "colab": {
          "base_uri": "https://localhost:8080/",
          "height": 143
        },
        "id": "rRIwSTDvQ3k_",
        "outputId": "17b37ffd-fbe6-4cd8-dac2-82e3ddf8ea50"
      },
      "execution_count": 34,
      "outputs": [
        {
          "output_type": "execute_result",
          "data": {
            "text/plain": [
              "             Nome  Idade       Sexo\n",
              "0      Joana lima     29   Feminino\n",
              "1  Mario Oliveira     70  Masculino\n",
              "2     Mauro César     50  Masculino"
            ],
            "text/html": [
              "\n",
              "  <div id=\"df-15ed98ba-d57b-427b-9475-84acc17a4c5d\" class=\"colab-df-container\">\n",
              "    <div>\n",
              "<style scoped>\n",
              "    .dataframe tbody tr th:only-of-type {\n",
              "        vertical-align: middle;\n",
              "    }\n",
              "\n",
              "    .dataframe tbody tr th {\n",
              "        vertical-align: top;\n",
              "    }\n",
              "\n",
              "    .dataframe thead th {\n",
              "        text-align: right;\n",
              "    }\n",
              "</style>\n",
              "<table border=\"1\" class=\"dataframe\">\n",
              "  <thead>\n",
              "    <tr style=\"text-align: right;\">\n",
              "      <th></th>\n",
              "      <th>Nome</th>\n",
              "      <th>Idade</th>\n",
              "      <th>Sexo</th>\n",
              "    </tr>\n",
              "  </thead>\n",
              "  <tbody>\n",
              "    <tr>\n",
              "      <th>0</th>\n",
              "      <td>Joana lima</td>\n",
              "      <td>29</td>\n",
              "      <td>Feminino</td>\n",
              "    </tr>\n",
              "    <tr>\n",
              "      <th>1</th>\n",
              "      <td>Mario Oliveira</td>\n",
              "      <td>70</td>\n",
              "      <td>Masculino</td>\n",
              "    </tr>\n",
              "    <tr>\n",
              "      <th>2</th>\n",
              "      <td>Mauro César</td>\n",
              "      <td>50</td>\n",
              "      <td>Masculino</td>\n",
              "    </tr>\n",
              "  </tbody>\n",
              "</table>\n",
              "</div>\n",
              "    <div class=\"colab-df-buttons\">\n",
              "\n",
              "  <div class=\"colab-df-container\">\n",
              "    <button class=\"colab-df-convert\" onclick=\"convertToInteractive('df-15ed98ba-d57b-427b-9475-84acc17a4c5d')\"\n",
              "            title=\"Convert this dataframe to an interactive table.\"\n",
              "            style=\"display:none;\">\n",
              "\n",
              "  <svg xmlns=\"http://www.w3.org/2000/svg\" height=\"24px\" viewBox=\"0 -960 960 960\">\n",
              "    <path d=\"M120-120v-720h720v720H120Zm60-500h600v-160H180v160Zm220 220h160v-160H400v160Zm0 220h160v-160H400v160ZM180-400h160v-160H180v160Zm440 0h160v-160H620v160ZM180-180h160v-160H180v160Zm440 0h160v-160H620v160Z\"/>\n",
              "  </svg>\n",
              "    </button>\n",
              "\n",
              "  <style>\n",
              "    .colab-df-container {\n",
              "      display:flex;\n",
              "      gap: 12px;\n",
              "    }\n",
              "\n",
              "    .colab-df-convert {\n",
              "      background-color: #E8F0FE;\n",
              "      border: none;\n",
              "      border-radius: 50%;\n",
              "      cursor: pointer;\n",
              "      display: none;\n",
              "      fill: #1967D2;\n",
              "      height: 32px;\n",
              "      padding: 0 0 0 0;\n",
              "      width: 32px;\n",
              "    }\n",
              "\n",
              "    .colab-df-convert:hover {\n",
              "      background-color: #E2EBFA;\n",
              "      box-shadow: 0px 1px 2px rgba(60, 64, 67, 0.3), 0px 1px 3px 1px rgba(60, 64, 67, 0.15);\n",
              "      fill: #174EA6;\n",
              "    }\n",
              "\n",
              "    .colab-df-buttons div {\n",
              "      margin-bottom: 4px;\n",
              "    }\n",
              "\n",
              "    [theme=dark] .colab-df-convert {\n",
              "      background-color: #3B4455;\n",
              "      fill: #D2E3FC;\n",
              "    }\n",
              "\n",
              "    [theme=dark] .colab-df-convert:hover {\n",
              "      background-color: #434B5C;\n",
              "      box-shadow: 0px 1px 3px 1px rgba(0, 0, 0, 0.15);\n",
              "      filter: drop-shadow(0px 1px 2px rgba(0, 0, 0, 0.3));\n",
              "      fill: #FFFFFF;\n",
              "    }\n",
              "  </style>\n",
              "\n",
              "    <script>\n",
              "      const buttonEl =\n",
              "        document.querySelector('#df-15ed98ba-d57b-427b-9475-84acc17a4c5d button.colab-df-convert');\n",
              "      buttonEl.style.display =\n",
              "        google.colab.kernel.accessAllowed ? 'block' : 'none';\n",
              "\n",
              "      async function convertToInteractive(key) {\n",
              "        const element = document.querySelector('#df-15ed98ba-d57b-427b-9475-84acc17a4c5d');\n",
              "        const dataTable =\n",
              "          await google.colab.kernel.invokeFunction('convertToInteractive',\n",
              "                                                    [key], {});\n",
              "        if (!dataTable) return;\n",
              "\n",
              "        const docLinkHtml = 'Like what you see? Visit the ' +\n",
              "          '<a target=\"_blank\" href=https://colab.research.google.com/notebooks/data_table.ipynb>data table notebook</a>'\n",
              "          + ' to learn more about interactive tables.';\n",
              "        element.innerHTML = '';\n",
              "        dataTable['output_type'] = 'display_data';\n",
              "        await google.colab.output.renderOutput(dataTable, element);\n",
              "        const docLink = document.createElement('div');\n",
              "        docLink.innerHTML = docLinkHtml;\n",
              "        element.appendChild(docLink);\n",
              "      }\n",
              "    </script>\n",
              "  </div>\n",
              "\n",
              "\n",
              "<div id=\"df-20350779-9d45-4732-86bd-ea02747d52cf\">\n",
              "  <button class=\"colab-df-quickchart\" onclick=\"quickchart('df-20350779-9d45-4732-86bd-ea02747d52cf')\"\n",
              "            title=\"Suggest charts.\"\n",
              "            style=\"display:none;\">\n",
              "\n",
              "<svg xmlns=\"http://www.w3.org/2000/svg\" height=\"24px\"viewBox=\"0 0 24 24\"\n",
              "     width=\"24px\">\n",
              "    <g>\n",
              "        <path d=\"M19 3H5c-1.1 0-2 .9-2 2v14c0 1.1.9 2 2 2h14c1.1 0 2-.9 2-2V5c0-1.1-.9-2-2-2zM9 17H7v-7h2v7zm4 0h-2V7h2v10zm4 0h-2v-4h2v4z\"/>\n",
              "    </g>\n",
              "</svg>\n",
              "  </button>\n",
              "\n",
              "<style>\n",
              "  .colab-df-quickchart {\n",
              "      --bg-color: #E8F0FE;\n",
              "      --fill-color: #1967D2;\n",
              "      --hover-bg-color: #E2EBFA;\n",
              "      --hover-fill-color: #174EA6;\n",
              "      --disabled-fill-color: #AAA;\n",
              "      --disabled-bg-color: #DDD;\n",
              "  }\n",
              "\n",
              "  [theme=dark] .colab-df-quickchart {\n",
              "      --bg-color: #3B4455;\n",
              "      --fill-color: #D2E3FC;\n",
              "      --hover-bg-color: #434B5C;\n",
              "      --hover-fill-color: #FFFFFF;\n",
              "      --disabled-bg-color: #3B4455;\n",
              "      --disabled-fill-color: #666;\n",
              "  }\n",
              "\n",
              "  .colab-df-quickchart {\n",
              "    background-color: var(--bg-color);\n",
              "    border: none;\n",
              "    border-radius: 50%;\n",
              "    cursor: pointer;\n",
              "    display: none;\n",
              "    fill: var(--fill-color);\n",
              "    height: 32px;\n",
              "    padding: 0;\n",
              "    width: 32px;\n",
              "  }\n",
              "\n",
              "  .colab-df-quickchart:hover {\n",
              "    background-color: var(--hover-bg-color);\n",
              "    box-shadow: 0 1px 2px rgba(60, 64, 67, 0.3), 0 1px 3px 1px rgba(60, 64, 67, 0.15);\n",
              "    fill: var(--button-hover-fill-color);\n",
              "  }\n",
              "\n",
              "  .colab-df-quickchart-complete:disabled,\n",
              "  .colab-df-quickchart-complete:disabled:hover {\n",
              "    background-color: var(--disabled-bg-color);\n",
              "    fill: var(--disabled-fill-color);\n",
              "    box-shadow: none;\n",
              "  }\n",
              "\n",
              "  .colab-df-spinner {\n",
              "    border: 2px solid var(--fill-color);\n",
              "    border-color: transparent;\n",
              "    border-bottom-color: var(--fill-color);\n",
              "    animation:\n",
              "      spin 1s steps(1) infinite;\n",
              "  }\n",
              "\n",
              "  @keyframes spin {\n",
              "    0% {\n",
              "      border-color: transparent;\n",
              "      border-bottom-color: var(--fill-color);\n",
              "      border-left-color: var(--fill-color);\n",
              "    }\n",
              "    20% {\n",
              "      border-color: transparent;\n",
              "      border-left-color: var(--fill-color);\n",
              "      border-top-color: var(--fill-color);\n",
              "    }\n",
              "    30% {\n",
              "      border-color: transparent;\n",
              "      border-left-color: var(--fill-color);\n",
              "      border-top-color: var(--fill-color);\n",
              "      border-right-color: var(--fill-color);\n",
              "    }\n",
              "    40% {\n",
              "      border-color: transparent;\n",
              "      border-right-color: var(--fill-color);\n",
              "      border-top-color: var(--fill-color);\n",
              "    }\n",
              "    60% {\n",
              "      border-color: transparent;\n",
              "      border-right-color: var(--fill-color);\n",
              "    }\n",
              "    80% {\n",
              "      border-color: transparent;\n",
              "      border-right-color: var(--fill-color);\n",
              "      border-bottom-color: var(--fill-color);\n",
              "    }\n",
              "    90% {\n",
              "      border-color: transparent;\n",
              "      border-bottom-color: var(--fill-color);\n",
              "    }\n",
              "  }\n",
              "</style>\n",
              "\n",
              "  <script>\n",
              "    async function quickchart(key) {\n",
              "      const quickchartButtonEl =\n",
              "        document.querySelector('#' + key + ' button');\n",
              "      quickchartButtonEl.disabled = true;  // To prevent multiple clicks.\n",
              "      quickchartButtonEl.classList.add('colab-df-spinner');\n",
              "      try {\n",
              "        const charts = await google.colab.kernel.invokeFunction(\n",
              "            'suggestCharts', [key], {});\n",
              "      } catch (error) {\n",
              "        console.error('Error during call to suggestCharts:', error);\n",
              "      }\n",
              "      quickchartButtonEl.classList.remove('colab-df-spinner');\n",
              "      quickchartButtonEl.classList.add('colab-df-quickchart-complete');\n",
              "    }\n",
              "    (() => {\n",
              "      let quickchartButtonEl =\n",
              "        document.querySelector('#df-20350779-9d45-4732-86bd-ea02747d52cf button');\n",
              "      quickchartButtonEl.style.display =\n",
              "        google.colab.kernel.accessAllowed ? 'block' : 'none';\n",
              "    })();\n",
              "  </script>\n",
              "</div>\n",
              "    </div>\n",
              "  </div>\n"
            ]
          },
          "metadata": {},
          "execution_count": 34
        }
      ]
    },
    {
      "cell_type": "markdown",
      "source": [
        "**8. Utilizando pandas, como lidar com valores ausentes (NaN) em um DataFrame?**"
      ],
      "metadata": {
        "id": "z55ng51g4pGK"
      }
    },
    {
      "cell_type": "code",
      "source": [
        "# Para lidar com valores ausentes o Pandas conta com dois método o 'isna()' para verificar valores e com o fillna() para preencher\n",
        "# os campos ausente com um valor escolhido e o dropna() para remover linhas com valores ausentes\n",
        "\n",
        "# Supondo que temos esse novo DataFrame\n",
        "\n",
        "dfTeste = pd.DataFrame(\n",
        "    {\n",
        "      'Nome':[\n",
        "      'Joana lima',\n",
        "      'Mario Oliveira',\n",
        "      'Mauro César',\n",
        "      'Carlos Lima'\n",
        "      ],\n",
        "      'Idade':[29, None, 50, 18],\n",
        "      'Sexo':['Feminino', 'Masculino', None, 'Masculino'],\n",
        "    }\n",
        ")"
      ],
      "metadata": {
        "id": "cPiBZxwFStpG"
      },
      "execution_count": 35,
      "outputs": []
    },
    {
      "cell_type": "code",
      "source": [
        "# isna():\n",
        "\n",
        "# verificar valores ausente em todo o dataframe\n",
        "\n",
        "valores_ausentes = dfTeste.isna()\n",
        "print(valores_ausentes) # onde há True verificamos valores ausentes\n",
        "\n",
        "# verificar valores ausentes em uma coluna específica\n",
        "valores_ausentes_coluna = dfTeste['Idade'].isna()\n",
        "\n",
        "print(valores_ausentes_coluna) # aqui retorna como True em uma linha que está ausente na coluna"
      ],
      "metadata": {
        "colab": {
          "base_uri": "https://localhost:8080/"
        },
        "id": "-Dr3An4DESuP",
        "outputId": "58d526d3-af13-44a9-f49b-930d5ef41057"
      },
      "execution_count": 36,
      "outputs": [
        {
          "output_type": "stream",
          "name": "stdout",
          "text": [
            "    Nome  Idade   Sexo\n",
            "0  False  False  False\n",
            "1  False   True  False\n",
            "2  False  False   True\n",
            "3  False  False  False\n",
            "0    False\n",
            "1     True\n",
            "2    False\n",
            "3    False\n",
            "Name: Idade, dtype: bool\n"
          ]
        }
      ]
    },
    {
      "cell_type": "code",
      "source": [
        "# fillna():\n",
        "\n",
        "# preenchendo valores ausentes em uma coluna com um valor específico\n",
        "\n",
        "dfTeste['Idade'].fillna(100, inplace=True) # o campo vazio em Idade passa a ser de 100\n",
        "print(dfTeste,'\\n')\n",
        "\n",
        "# preenchendo em todo o DataFrame\n",
        "\n",
        "dfTeste.fillna('200', inplace=True) # todos os campos vazios passam a ser 200\n",
        "print(dfTeste)\n"
      ],
      "metadata": {
        "colab": {
          "base_uri": "https://localhost:8080/"
        },
        "id": "V8okC0IkEV31",
        "outputId": "bedb5949-bd68-4b76-87fc-dd0600ae4134"
      },
      "execution_count": 37,
      "outputs": [
        {
          "output_type": "stream",
          "name": "stdout",
          "text": [
            "             Nome  Idade       Sexo\n",
            "0      Joana lima   29.0   Feminino\n",
            "1  Mario Oliveira  100.0  Masculino\n",
            "2     Mauro César   50.0       None\n",
            "3     Carlos Lima   18.0  Masculino \n",
            "\n",
            "             Nome  Idade       Sexo\n",
            "0      Joana lima   29.0   Feminino\n",
            "1  Mario Oliveira  100.0  Masculino\n",
            "2     Mauro César   50.0        200\n",
            "3     Carlos Lima   18.0  Masculino\n"
          ]
        }
      ]
    },
    {
      "cell_type": "code",
      "source": [
        "# dropna()\n",
        "\n",
        "dfTeste2 = pd.DataFrame(\n",
        "    {\n",
        "      'Nome':[\n",
        "      'Joana lima',\n",
        "      'Mario Oliveira',\n",
        "      'Mauro César',\n",
        "      'Carlos Lima'\n",
        "      ],\n",
        "      'Idade':[29, None, 50, 18],\n",
        "      'Sexo':['Feminino', 'Masculino', None, 'Masculino'],\n",
        "    }\n",
        ")\n",
        "\n",
        "\n",
        "# removendo linhas com valores ausentes em colunas específicas\n",
        "\n",
        "dfTeste2.dropna(subset=['Idade'], inplace=True) # removeu apenas o Mário que estava sem Idade definida\n",
        "print(dfTeste2,'\\n')\n",
        "\n",
        "# removendo linhas ausentes de qualquer coluna\n",
        "\n",
        "dfTeste2.dropna(inplace=True) # remove qualquer pessoa que esteja com algum valor ausente em sua coluna\n",
        "print(dfTeste2)\n"
      ],
      "metadata": {
        "colab": {
          "base_uri": "https://localhost:8080/"
        },
        "id": "acg0ZfYLGGU_",
        "outputId": "19b5d72b-f1df-4791-92de-d07d6d0019aa"
      },
      "execution_count": 40,
      "outputs": [
        {
          "output_type": "stream",
          "name": "stdout",
          "text": [
            "          Nome  Idade       Sexo\n",
            "0   Joana lima   29.0   Feminino\n",
            "2  Mauro César   50.0       None\n",
            "3  Carlos Lima   18.0  Masculino \n",
            "\n",
            "          Nome  Idade       Sexo\n",
            "0   Joana lima   29.0   Feminino\n",
            "3  Carlos Lima   18.0  Masculino\n"
          ]
        }
      ]
    },
    {
      "cell_type": "markdown",
      "source": [
        "9. Complete o código:\n",
        "\n",
        "```\n",
        "import __________.pyplot as plt\n",
        "\n",
        "import numpy as ___\n",
        "\n",
        "fig, axs = plt.subplots(ncols=2, nrows=2, figsize=(5.5, 3.5),\n",
        "                        layout=\"constrained\")\n",
        "\n",
        "for ___ in range(2):\n",
        "\n",
        "    for ___ in range(2):\n",
        "\n",
        "        axs[row, col].annotate(f'axs[{row}, {col}]', (0.5, 0.5),\n",
        "\n",
        "                               transform=axs[row, col].transAxes,\n",
        "\n",
        "                               ha='center', va='center', ________=18,\n",
        "\n",
        "                               color='darkgrey')\n",
        "\n",
        "fig.suptitle('__.subplots()')\n",
        "```"
      ],
      "metadata": {
        "id": "rwKh3Te-4sTi"
      }
    },
    {
      "cell_type": "code",
      "source": [
        "import matplotlib.pyplot as plt\n",
        "import numpy as np\n",
        "\n",
        "fig, axs = plt.subplots(ncols=2, nrows=2, figsize=(5.5, 3.5),\n",
        "                        constrained_layout=True)\n",
        "\n",
        "for row in range(2):\n",
        "    for col in range(2):\n",
        "        axs[row, col].annotate(f'axs[{row}, {col}]', (0.5, 0.5),\n",
        "                               transform=axs[row, col].transAxes,\n",
        "                               ha='center', va='center', fontsize=18,\n",
        "                               color='darkgrey')\n",
        "\n",
        "fig.suptitle('plt.subplots()')\n",
        "plt.show()\n"
      ],
      "metadata": {
        "colab": {
          "base_uri": "https://localhost:8080/",
          "height": 378
        },
        "id": "ItJ4sggAHoBn",
        "outputId": "9ba60a05-354b-45c6-846b-53eece1864df"
      },
      "execution_count": 41,
      "outputs": [
        {
          "output_type": "display_data",
          "data": {
            "text/plain": [
              "<Figure size 550x350 with 4 Axes>"
            ],
            "image/png": "[encoded data removed]"
          },
          "metadata": {}
        }
      ]
    },
    {
      "cell_type": "markdown",
      "source": [
        "10. Complete o código:\n",
        "\n",
        "```\n",
        "import numpy as np\n",
        "\n",
        "import __________ as mpl\n",
        "\n",
        "import __________.______ as plt\n",
        "\n",
        "\n",
        "x = np.________(-2 * np.pi, 2 * np.pi, 100)\n",
        "\n",
        "y = np.____(x)\n",
        "\n",
        "\n",
        "__, __ = plt.subplots()\n",
        "\n",
        "ax.____(_, _)\n",
        "```"
      ],
      "metadata": {
        "id": "NOnNfd1n4u3D"
      }
    },
    {
      "cell_type": "code",
      "source": [
        "import numpy as np\n",
        "import matplotlib as mpl\n",
        "import matplotlib.pyplot as plt\n",
        "\n",
        "x = np.linspace(-2 * np.pi, 2 * np.pi, 100)\n",
        "y = np.sin(x)\n",
        "\n",
        "fig, ax = plt.subplots()\n",
        "\n",
        "ax.plot(x, y)\n",
        "ax.set_xlabel('Eixo X')\n",
        "ax.set_ylabel('Eixo Y')\n",
        "ax.set_title('Gráfico da função seno')\n",
        "plt.show()\n"
      ],
      "metadata": {
        "colab": {
          "base_uri": "https://localhost:8080/",
          "height": 472
        },
        "id": "YpoUJwL0I8Qu",
        "outputId": "74de86e7-b5ea-4c2f-ba19-e8713a2213d6"
      },
      "execution_count": 44,
      "outputs": [
        {
          "output_type": "display_data",
          "data": {
            "text/plain": [
              "<Figure size 640x480 with 1 Axes>"
            ],
            "image/png": "[encoded data removed]"
          },
          "metadata": {}
        }
      ]
    }
  ]
}